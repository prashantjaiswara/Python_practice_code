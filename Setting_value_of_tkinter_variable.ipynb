{
 "cells": [
  {
   "cell_type": "code",
   "execution_count": 9,
   "metadata": {},
   "outputs": [
    {
     "name": "stdout",
     "output_type": "stream",
     "text": [
      "<class 'tkinter.IntVar'>\n",
      "n\n",
      "10\n",
      "n\n",
      "1\n"
     ]
    }
   ],
   "source": [
    "# importing tkinter module \n",
    "from tkinter import *\n",
    "\n",
    "# creating Tk() variable \n",
    "# required by Tkinter classes \n",
    "\n",
    "master = Tk() #master is root variable\n",
    "i=IntVar(master,name=\"n\",value=10)  # it will throw an error if root variable is not defined earlier\n",
    "print( type(i) )\n",
    "print( i )\n",
    "print( i.get() )\n",
    "\n",
    "\n",
    "i.set( value=1 )\n",
    "print( i )\n",
    "print( i.get() )"
   ]
  },
  {
   "cell_type": "code",
   "execution_count": 10,
   "metadata": {},
   "outputs": [
    {
     "name": "stdout",
     "output_type": "stream",
     "text": [
      "name of intvar i\n",
      "name of strvar s\n",
      "name of boolvar b\n",
      "name of doublevar f\n",
      "\n",
      "\n",
      "Value of intvar 100\n",
      "Value of strvar GFG\n",
      "Value of boolvar False\n",
      "Value of doublevar 3.1415\n"
     ]
    }
   ],
   "source": [
    "# Tkinter variables \n",
    "# Giving user defined names to each variables \n",
    "# so that variables can be modified easily \n",
    "\n",
    "\n",
    "intvar = IntVar(master, name =\"i\")\n",
    "strvar = StringVar(master, name =\"s\")\n",
    "boolvar  =BooleanVar(master, name =\"b\")\n",
    "doublevar=DoubleVar(master, name =\"f\")\n",
    "\n",
    "\n",
    "# Setting values of variables \n",
    "# using setvar() method \n",
    "master.setvar(name =\"i\", value = 100)\n",
    "master.setvar(name =\"s\", value =\"GFG\")\n",
    "master.setvar(name =\"b\", value = False)\n",
    "master.setvar(name =\"f\", value = 3.1415)\n",
    "\n",
    "\n",
    "# getting values of each variables using get() method \n",
    "print(\"name of intvar\", intvar)\n",
    "print(\"name of strvar\", strvar)\n",
    "print(\"name of boolvar\", boolvar)\n",
    "print(\"name of doublevar\", doublevar)\n",
    "\n",
    "\n",
    "print(\"\\n\\nValue of intvar\", intvar.get())\n",
    "print(\"Value of strvar\", strvar.get())\n",
    "print(\"Value of boolvar\", boolvar.get())\n",
    "print(\"Value of doublevar\", doublevar.get())"
   ]
  },
  {
   "cell_type": "code",
   "execution_count": 11,
   "metadata": {},
   "outputs": [
    {
     "name": "stdout",
     "output_type": "stream",
     "text": [
      "\n",
      "\n",
      "Setting value of intvar=101  by .set() method\n",
      "name of intvar i\n",
      "Value of intvar 101\n",
      "\n",
      "\n",
      "Setting value of doublevar=2.71828 by .set() method\n",
      "name of doublevar f\n",
      "Value of DoubleVar() 2.71828\n"
     ]
    }
   ],
   "source": [
    "print(\"\\n\\nSetting value of intvar=101  by .set() method\")\n",
    "\n",
    "intvar.set(101)\n",
    "print(\"name of intvar\", intvar)\n",
    "print(\"Value of intvar\", intvar.get())\n",
    "\n",
    "\n",
    "print(\"\\n\\nSetting value of doublevar=2.71828 by .set() method\" )\n",
    "\n",
    "doublevar.set(2.71828)\n",
    "print(\"name of doublevar\", doublevar)\n",
    "print(\"Value of DoubleVar()\", doublevar.get())"
   ]
  },
  {
   "cell_type": "code",
   "execution_count": 12,
   "metadata": {},
   "outputs": [
    {
     "name": "stdout",
     "output_type": "stream",
     "text": [
      "\n",
      "\n",
      "Setting value of intvar=102 by 'name'/ .setvar() method\n",
      "name of intvar i\n",
      "Value of intvar 102\n",
      "\n",
      "\n",
      "Setting value of doublevar=1.414 by 'name'/ .setvar() method\n",
      "\n",
      "name of doublevar f\n",
      "Value of DoubleVar() 1.414\n"
     ]
    }
   ],
   "source": [
    "print(\"\\n\\nSetting value of intvar=102 by 'name'/ .setvar() method\")\n",
    "\n",
    "master.setvar(name =\"i\", value = 102)\n",
    "print(\"name of intvar\", intvar)\n",
    "print(\"Value of intvar\", intvar.get())\n",
    "\n",
    "\n",
    "print(\"\\n\\nSetting value of doublevar=1.414 by 'name'/ .setvar() method\")\n",
    "\n",
    "master.setvar(name =\"f\", value = 1.414)\n",
    "print(\"\\nname of doublevar\", doublevar)\n",
    "print(\"Value of DoubleVar()\", doublevar.get())"
   ]
  },
  {
   "cell_type": "code",
   "execution_count": 13,
   "metadata": {},
   "outputs": [
    {
     "name": "stdout",
     "output_type": "stream",
     "text": [
      "102\n",
      "GFG\n",
      "0\n",
      "1.414\n"
     ]
    }
   ],
   "source": [
    "print(master.getvar(name='i'))\n",
    "print(master.getvar(name='s'))\n",
    "print(master.getvar(name='b'))\n",
    "print(master.getvar(name='f'))"
   ]
  },
  {
   "cell_type": "code",
   "execution_count": null,
   "metadata": {},
   "outputs": [],
   "source": []
  }
 ],
 "metadata": {
  "kernelspec": {
   "display_name": "Python 3",
   "language": "python",
   "name": "python3"
  },
  "language_info": {
   "codemirror_mode": {
    "name": "ipython",
    "version": 3
   },
   "file_extension": ".py",
   "mimetype": "text/x-python",
   "name": "python",
   "nbconvert_exporter": "python",
   "pygments_lexer": "ipython3",
   "version": "3.7.3"
  }
 },
 "nbformat": 4,
 "nbformat_minor": 2
}
