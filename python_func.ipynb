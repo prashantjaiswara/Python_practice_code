{
 "cells": [
  {
   "cell_type": "code",
   "execution_count": 4,
   "metadata": {},
   "outputs": [
    {
     "name": "stdout",
     "output_type": "stream",
     "text": [
      "The third argument is: ghi\n"
     ]
    }
   ],
   "source": [
    "def my_func(*keyw):\n",
    "    print(\"The third argument is:\",keyw[2])\n",
    "    \n",
    "my_func(\"abc\",\"def\",\"ghi\")"
   ]
  },
  {
   "cell_type": "code",
   "execution_count": 10,
   "metadata": {},
   "outputs": [
    {
     "name": "stdout",
     "output_type": "stream",
     "text": [
      "the s3 is: a\n"
     ]
    }
   ],
   "source": [
    "def my_func(s1,s3,s2):\n",
    "    print(\"the s3 is:\", s3)\n",
    "\n",
    "my_func(s3='a',s1='b',s2='c')"
   ]
  },
  {
   "cell_type": "code",
   "execution_count": 20,
   "metadata": {},
   "outputs": [
    {
     "name": "stdout",
     "output_type": "stream",
     "text": [
      "The third argument is:ghi\n"
     ]
    }
   ],
   "source": [
    "def my_func(**keyw):\n",
    "    print(\"The third argument is:\"+ keyw[\"s3\"])\n",
    "    \n",
    "my_func(s1=\"abc\", s2=\"def\",s3=\"ghi\")"
   ]
  },
  {
   "cell_type": "code",
   "execution_count": 38,
   "metadata": {},
   "outputs": [
    {
     "name": "stdout",
     "output_type": "stream",
     "text": [
      "10\n",
      "9\n",
      "8\n",
      "7\n",
      "6\n",
      "5\n",
      "4\n",
      "3\n",
      "2\n",
      "1\n",
      "the summation of 10 to 1 is 55\n"
     ]
    }
   ],
   "source": [
    "def summation(n):\n",
    "    if n>0:\n",
    "        print(n)\n",
    "        return n+summation(n-1)\n",
    "    else:\n",
    "        return n\n",
    "\n",
    "num=10\n",
    "print(\"The summation of 10 to 1 is\",summation(10) )"
   ]
  },
  {
   "cell_type": "code",
   "execution_count": 37,
   "metadata": {},
   "outputs": [
    {
     "name": "stdout",
     "output_type": "stream",
     "text": [
      "The factorial of 10 is 3628800\n"
     ]
    }
   ],
   "source": [
    "def factorial(n):\n",
    "    if n>0:\n",
    "        return n*factorial(n-1)\n",
    "    else:\n",
    "        return 1\n",
    "\n",
    "num=10\n",
    "print(\"The factorial of\", num ,\"is\", factorial(num) )\n",
    "    "
   ]
  },
  {
   "cell_type": "code",
   "execution_count": 45,
   "metadata": {},
   "outputs": [
    {
     "name": "stdout",
     "output_type": "stream",
     "text": [
      "36\n",
      "62.5\n"
     ]
    }
   ],
   "source": [
    "n=6\n",
    "sqr=lambda n: n**2\n",
    "print(sqr(n))\n",
    "\n",
    "n1,d1=5,8\n",
    "perc=lambda numer, denom : (numer/denom)*100\n",
    "print(perc (n1,d1))"
   ]
  },
  {
   "cell_type": "code",
   "execution_count": 48,
   "metadata": {},
   "outputs": [
    {
     "name": "stdout",
     "output_type": "stream",
     "text": [
      "100\n",
      "1000\n"
     ]
    }
   ],
   "source": [
    "def my_func(n=1):\n",
    "    return lambda a: a**n\n",
    "\n",
    "sqr= my_func(2)\n",
    "n=10\n",
    "print(sqr(n))\n",
    "\n",
    "cube= my_func(3)\n",
    "n=10\n",
    "print(cube(n))"
   ]
  },
  {
   "cell_type": "code",
   "execution_count": null,
   "metadata": {},
   "outputs": [],
   "source": []
  }
 ],
 "metadata": {
  "kernelspec": {
   "display_name": "Python 3",
   "language": "python",
   "name": "python3"
  },
  "language_info": {
   "codemirror_mode": {
    "name": "ipython",
    "version": 3
   },
   "file_extension": ".py",
   "mimetype": "text/x-python",
   "name": "python",
   "nbconvert_exporter": "python",
   "pygments_lexer": "ipython3",
   "version": "3.7.3"
  }
 },
 "nbformat": 4,
 "nbformat_minor": 2
}
