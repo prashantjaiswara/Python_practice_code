{
 "cells": [
  {
   "cell_type": "code",
   "execution_count": 10,
   "metadata": {},
   "outputs": [
    {
     "name": "stdout",
     "output_type": "stream",
     "text": [
      "Series([], dtype: float64)\n"
     ]
    }
   ],
   "source": [
    "import pandas as pd\n",
    "import numpy as np\n",
    "\n",
    "s=pd.Series()\n",
    "print(s)"
   ]
  },
  {
   "cell_type": "code",
   "execution_count": 11,
   "metadata": {},
   "outputs": [
    {
     "name": "stdout",
     "output_type": "stream",
     "text": [
      "0    a\n",
      "1    b\n",
      "2    c\n",
      "3    d\n",
      "4    e\n",
      "5    f\n",
      "dtype: object\n"
     ]
    }
   ],
   "source": [
    "n=np.array(['a','b','c','d','e','f'])\n",
    "s=pd.Series(n)\n",
    "print(s)"
   ]
  },
  {
   "cell_type": "code",
   "execution_count": 48,
   "metadata": {},
   "outputs": [],
   "source": [
    "i=np.array([101,102,103,104,105,106])"
   ]
  },
  {
   "cell_type": "code",
   "execution_count": 49,
   "metadata": {},
   "outputs": [
    {
     "name": "stdout",
     "output_type": "stream",
     "text": [
      "101    a\n",
      "102    b\n",
      "103    c\n",
      "104    d\n",
      "105    e\n",
      "106    f\n",
      "dtype: object\n"
     ]
    }
   ],
   "source": [
    "s1=pd.Series(n,index=i)\n",
    "print(s1)"
   ]
  },
  {
   "cell_type": "code",
   "execution_count": 70,
   "metadata": {},
   "outputs": [
    {
     "name": "stdout",
     "output_type": "stream",
     "text": [
      "key         50\n",
      "a           20\n",
      "99          50\n",
      "2.71828     40\n",
      "True       100\n",
      "False      100\n",
      "dtype: int64\n",
      "key    50\n",
      "dtype: int64\n"
     ]
    }
   ],
   "source": [
    "data = {\"key\" : 10, 'a': 20, 99: 30, 2.71828: 40, True: 50, False: 60,99:50,  \"key\":50, 1:100, 1.1:51, 0:100}\n",
    "s = pd.Series(data,index=[\"key\",'a',99,2.71828,True, False])\n",
    "print(s)\n",
    "print(s[0:1])"
   ]
  },
  {
   "cell_type": "code",
   "execution_count": 72,
   "metadata": {},
   "outputs": [
    {
     "name": "stdout",
     "output_type": "stream",
     "text": [
      "a    5\n",
      "1    5\n",
      "dtype: int64\n"
     ]
    }
   ],
   "source": [
    "i=np.array(['a',1,2,3,4,5])\n",
    "s=pd.Series(5,index=i) #scalar '5' will be copied in each entry\n",
    "print(s[0:2])"
   ]
  },
  {
   "cell_type": "code",
   "execution_count": 93,
   "metadata": {},
   "outputs": [
    {
     "name": "stdout",
     "output_type": "stream",
     "text": [
      "1    1\n",
      "2    2\n",
      "3    3\n",
      "4    4\n",
      "6    6\n",
      "dtype: int32\n",
      "1    1\n",
      "3    3\n",
      "6    6\n",
      "dtype: int32\n"
     ]
    }
   ],
   "source": [
    "i=np.array( [1,2,3,4,6] )\n",
    "n=np.array( [1,2,3,4,6] )\n",
    "s=pd.Series(n,index=i)            #scalar '5' will be copied in each entry\n",
    "print( s)\n",
    "print(s[[1,3,6]])"
   ]
  },
  {
   "cell_type": "code",
   "execution_count": 97,
   "metadata": {},
   "outputs": [],
   "source": [
    "#panda DataFrame"
   ]
  },
  {
   "cell_type": "code",
   "execution_count": 99,
   "metadata": {},
   "outputs": [
    {
     "name": "stdout",
     "output_type": "stream",
     "text": [
      "   0\n",
      "0  1\n",
      "1  2\n",
      "2  3\n",
      "3  4\n",
      "4  5\n"
     ]
    }
   ],
   "source": [
    "data=[1,2,3,4,5]\n",
    "d=pd.DataFrame(data)\n",
    "print(d)"
   ]
  },
  {
   "cell_type": "code",
   "execution_count": 103,
   "metadata": {},
   "outputs": [
    {
     "name": "stdout",
     "output_type": "stream",
     "text": [
      "   num\n",
      "0    1\n",
      "1    2\n",
      "2    3\n",
      "3    4\n",
      "4    5\n"
     ]
    }
   ],
   "source": [
    "data=[1,2,3,4,5]\n",
    "d=pd.DataFrame(data, columns=['num'])\n",
    "print(d)"
   ]
  },
  {
   "cell_type": "code",
   "execution_count": 109,
   "metadata": {},
   "outputs": [
    {
     "name": "stdout",
     "output_type": "stream",
     "text": [
      "     Name  Age\n",
      "1    Alex   23\n",
      "2    Jais   31\n",
      "3  Saurav   28\n"
     ]
    }
   ],
   "source": [
    "data=[['Alex',23],['Jais',31],['Saurav', 28]]\n",
    "d=pd.DataFrame(data,columns=['Name','Age'],index=[1,2,3], dtype=int)\n",
    "print(d)"
   ]
  },
  {
   "cell_type": "code",
   "execution_count": 118,
   "metadata": {},
   "outputs": [
    {
     "name": "stdout",
     "output_type": "stream",
     "text": [
      "     Name  age\n",
      "a    Jais   31\n",
      "b  sourav   28\n",
      "c   rahul   27\n"
     ]
    }
   ],
   "source": [
    "data={ 'Name':['Jais','sourav','rahul'], 'age': [31,28,27]}\n",
    "d=pd.DataFrame(data,index=['a','b','c'] )\n",
    "print(d)"
   ]
  },
  {
   "cell_type": "code",
   "execution_count": 130,
   "metadata": {},
   "outputs": [
    {
     "name": "stdout",
     "output_type": "stream",
     "text": [
      "    Name  age  height\n",
      "0   Jais   31     NaN\n",
      "1  Vivek   28   165.0\n"
     ]
    }
   ],
   "source": [
    "data=[ { 'Name':'Jais', 'age': 31},{ 'Name':'Vivek', 'age':28,'height': 165 }]\n",
    "d=pd.DataFrame(data )\n",
    "print(d)"
   ]
  },
  {
   "cell_type": "code",
   "execution_count": 129,
   "metadata": {},
   "outputs": [
    {
     "name": "stdout",
     "output_type": "stream",
     "text": [
      "            Name       age      height\n",
      "0           Jais        31         NaN\n",
      "1  [Vivek, jais]  [28, 31]  [165, 167]\n"
     ]
    }
   ],
   "source": [
    "data=[ { 'Name':'Jais', 'age': 31},{ 'Name':['Vivek','jais'], 'age':[28,31],'height': [165,167] }]\n",
    "d=pd.DataFrame(data )\n",
    "print(d)"
   ]
  },
  {
   "cell_type": "code",
   "execution_count": null,
   "metadata": {},
   "outputs": [],
   "source": []
  }
 ],
 "metadata": {
  "kernelspec": {
   "display_name": "Python 3",
   "language": "python",
   "name": "python3"
  },
  "language_info": {
   "codemirror_mode": {
    "name": "ipython",
    "version": 3
   },
   "file_extension": ".py",
   "mimetype": "text/x-python",
   "name": "python",
   "nbconvert_exporter": "python",
   "pygments_lexer": "ipython3",
   "version": "3.7.3"
  }
 },
 "nbformat": 4,
 "nbformat_minor": 2
}
